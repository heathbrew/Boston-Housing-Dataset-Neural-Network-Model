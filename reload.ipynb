{
 "cells": [
  {
   "cell_type": "code",
   "execution_count": 2,
   "id": "effb2bc2-2b09-4561-9fca-8865e5d49d21",
   "metadata": {},
   "outputs": [],
   "source": [
    "from keras.models import load_model\n",
    "model = load_model('ANN.h5')"
   ]
  },
  {
   "cell_type": "code",
   "execution_count": 10,
   "id": "436ab360-58b2-466e-b81b-a2dd0b92cede",
   "metadata": {},
   "outputs": [
    {
     "name": "stdout",
     "output_type": "stream",
     "text": [
      "1/1 [==============================] - 0s 42ms/step\n",
      "Predicted Median Home Value: 1665.402\n"
     ]
    }
   ],
   "source": [
    "# make predictions using the trained model\n",
    "X_new = [[0.03237, 0, 2.18, 0, 0.458, 6.998, 45.8, 6.0622, 3, 222, 18.7, 394.63, 2.94]]\n",
    "# X_new = scaler.transform(X_new)\n",
    "y_new = model.predict(X_new)\n",
    "print('Predicted Median Home Value:', y_new[0][0])\n"
   ]
  },
  {
   "cell_type": "code",
   "execution_count": 12,
   "id": "797990a4-d10e-4dd6-a82e-b89e0cf7cf92",
   "metadata": {},
   "outputs": [
    {
     "name": "stdout",
     "output_type": "stream",
     "text": [
      "1/1 [==============================] - 0s 29ms/step\n",
      "Predicted Median Home Value: 103.39454\n"
     ]
    }
   ],
   "source": [
    "from sklearn.preprocessing import StandardScaler as scaler\n",
    "# normalize the features\n",
    "scaler = StandardScaler()\n",
    "# make predictions using the trained model\n",
    "X_new = [[0.03237, 0, 2.18, 0, 0.458, 6.998, 45.8, 6.0622, 3, 222, 18.7, 394.63, 2.94]]\n",
    "X_new = scaler.fit_transform(X_new)\n",
    "X_new = scaler.transform(X_new)\n",
    "y_new = model.predict(X_new)\n",
    "print('Predicted Median Home Value:', y_new[0][0])"
   ]
  },
  {
   "cell_type": "code",
   "execution_count": null,
   "id": "ac2d4e55-0697-4c74-82f2-8404154bfdf6",
   "metadata": {},
   "outputs": [],
   "source": []
  }
 ],
 "metadata": {
  "kernelspec": {
   "display_name": "Python 3 (ipykernel)",
   "language": "python",
   "name": "python3"
  },
  "language_info": {
   "codemirror_mode": {
    "name": "ipython",
    "version": 3
   },
   "file_extension": ".py",
   "mimetype": "text/x-python",
   "name": "python",
   "nbconvert_exporter": "python",
   "pygments_lexer": "ipython3",
   "version": "3.10.7"
  }
 },
 "nbformat": 4,
 "nbformat_minor": 5
}
